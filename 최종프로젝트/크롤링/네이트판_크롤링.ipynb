{
 "cells": [
  {
   "cell_type": "markdown",
   "metadata": {},
   "source": [
    "환경 설정"
   ]
  },
  {
   "cell_type": "code",
   "execution_count": 65,
   "metadata": {},
   "outputs": [],
   "source": [
    "''' Time Sleep '''\n",
    "# time.sleep(random.uniform(1.3, 5))"
   ]
  },
  {
   "cell_type": "code",
   "execution_count": null,
   "metadata": {},
   "outputs": [],
   "source": [
    "!pip install webdriver-manager\n",
    "!pip install selenium\n",
    "!pip install lxml\n",
    "!pip install requests\n",
    "!pip install beautifulsoup4 requests\n",
    "!pip install tqdm"
   ]
  },
  {
   "cell_type": "code",
   "execution_count": null,
   "metadata": {},
   "outputs": [],
   "source": [
    "!pip install requests beautifulsoup4"
   ]
  },
  {
   "cell_type": "code",
   "execution_count": 3,
   "metadata": {},
   "outputs": [],
   "source": [
    "import requests\n",
    "from lxml import html\n",
    "from bs4 import BeautifulSoup\n",
    "\n",
    "from selenium import webdriver\n",
    "from selenium.webdriver.common.by import By\n",
    "from selenium.webdriver.chrome.service import Service\n",
    "from webdriver_manager.chrome import ChromeDriverManager\n",
    "from selenium.webdriver.support.ui import WebDriverWait\n",
    "from selenium.webdriver.support import expected_conditions as EC\n",
    "from selenium.webdriver.chrome.options import Options\n",
    "from selenium.webdriver.common.keys import Keys\n",
    "\n",
    "import pandas as pd\n",
    "import time\n",
    "import random"
   ]
  },
  {
   "cell_type": "markdown",
   "metadata": {},
   "source": [
    "### Nate Pann 크롤링 시작"
   ]
  },
  {
   "cell_type": "markdown",
   "metadata": {},
   "source": [
    "#### Selenium 으로 Click, Back 반복"
   ]
  },
  {
   "cell_type": "code",
   "execution_count": 4,
   "metadata": {},
   "outputs": [],
   "source": [
    "# 데이터프레임 초기화\n",
    "nate_df = pd.DataFrame(columns=['Date', 'URL', 'Title', 'Body Text', 'Replies'])\n",
    "\n",
    "# Chrome WebDriver 초기화\n",
    "driver = webdriver.Chrome(service=Service(ChromeDriverManager().install()))"
   ]
  },
  {
   "cell_type": "code",
   "execution_count": 7,
   "metadata": {},
   "outputs": [
    {
     "name": "stdout",
     "output_type": "stream",
     "text": [
      "page1\n",
      "1page / 1번째 글 / click!\n",
      "Data concat success\n",
      "back!\n",
      "1page / 2번째 글 / click!\n"
     ]
    },
    {
     "ename": "KeyboardInterrupt",
     "evalue": "",
     "output_type": "error",
     "traceback": [
      "\u001b[0;31m---------------------------------------------------------------------------\u001b[0m",
      "\u001b[0;31mKeyboardInterrupt\u001b[0m                         Traceback (most recent call last)",
      "Cell \u001b[0;32mIn[7], line 46\u001b[0m\n\u001b[1;32m     43\u001b[0m \u001b[38;5;66;03m# print(f'{j}번째 date appending')\u001b[39;00m\n\u001b[1;32m     45\u001b[0m \u001b[38;5;250m\u001b[39m\u001b[38;5;124;03m''' URL append '''\u001b[39;00m\n\u001b[0;32m---> 46\u001b[0m \u001b[43mtime\u001b[49m\u001b[38;5;241;43m.\u001b[39;49m\u001b[43msleep\u001b[49m\u001b[43m(\u001b[49m\u001b[43mrandom\u001b[49m\u001b[38;5;241;43m.\u001b[39;49m\u001b[43muniform\u001b[49m\u001b[43m(\u001b[49m\u001b[38;5;241;43m1.3\u001b[39;49m\u001b[43m,\u001b[49m\u001b[43m \u001b[49m\u001b[38;5;241;43m2\u001b[39;49m\u001b[43m)\u001b[49m\u001b[43m)\u001b[49m\n\u001b[1;32m     47\u001b[0m new_lst\u001b[38;5;241m.\u001b[39mappend(driver\u001b[38;5;241m.\u001b[39mcurrent_url)\n\u001b[1;32m     48\u001b[0m \u001b[38;5;66;03m# print(f'{j}번째 URL appending')\u001b[39;00m\n",
      "\u001b[0;31mKeyboardInterrupt\u001b[0m: "
     ]
    }
   ],
   "source": [
    "while True:\n",
    "    try:\n",
    "        for i in range(49):\n",
    "\n",
    "            ''' URL 열기 '''\n",
    "            url = f'https://pann.nate.com/search/talk?q=%EA%B3%B5%EA%B0%95&page={i+1}'\n",
    "            driver.get(url)\n",
    "            wait = WebDriverWait(driver, 10)\n",
    "            print(f'page{i+1}')\n",
    "\n",
    "            # 페이지가 정상적으로 로드되었는지 확인\n",
    "            response = requests.get(url, headers={'User-Agent': 'Mozilla/5.0'})\n",
    "            if response.status_code != 200:\n",
    "                print(\"페이지 로드 실패:\", response.status_code)\n",
    "                continue\n",
    "\n",
    "            ''' 글 Title 을 가져오기 전 준비 '''\n",
    "            tree = html.fromstring(response.content)\n",
    "            subject_elements = driver.find_elements(By.CLASS_NAME, 'subject')\n",
    "\n",
    "            try :\n",
    "                ''' 글 클릭하기 '''\n",
    "                for j in range(len(subject_elements)):\n",
    "                    # 클릭!\n",
    "                    time.sleep(random.uniform(1.8, 3))\n",
    "                    subject_elements[j].click()\n",
    "                    time.sleep(random.uniform(1.8, 2))\n",
    "                    print(f'{i+1}page / {j+1}번째 글 / click!')\n",
    "\n",
    "                    new_lst = []\n",
    "\n",
    "                    ''' Date Check '''\n",
    "                    time.sleep(random.uniform(1.8, 2.5))\n",
    "                    post_date = driver.find_element(By.CLASS_NAME, 'date')\n",
    "                    # 연도 추출\n",
    "                    year = post_date.text.split('.')[0]  # '2024' 부분 추출\n",
    "                    two_year = int(year[-2:])     # 마지막 두 자리 추출\n",
    "                    \n",
    "                    if two_year > 15 :\n",
    "                        \n",
    "                        ''' Date append '''\n",
    "                        new_lst.append(post_date.text)\n",
    "                        # print(f'{j}번째 date appending')\n",
    "\n",
    "                        ''' URL append '''\n",
    "                        time.sleep(random.uniform(1.3, 2))\n",
    "                        new_lst.append(driver.current_url)\n",
    "                        # print(f'{j}번째 URL appending')\n",
    "\n",
    "                        ''' Title append '''\n",
    "                        time.sleep(random.uniform(2.1, 3))\n",
    "                        h1 = driver.find_element(By.TAG_NAME, 'h1')\n",
    "                        new_lst.append(h1.text)\n",
    "                        # print(f'{j}번째 title appending')\n",
    "\n",
    "                        ''' Body Text append '''\n",
    "                        time.sleep(random.uniform(1.3, 2))\n",
    "                        body = driver.find_element(By.ID, 'contentArea')\n",
    "                        new_lst.append(body.text)\n",
    "                        # print(f'{j}번째 body text appending')\n",
    "\n",
    "                        ''' Replies append '''\n",
    "                        replies_lst = []\n",
    "                        usertxt_elements = driver.find_elements(By.CLASS_NAME, 'usertxt')\n",
    "\n",
    "                        for usertxt in usertxt_elements:\n",
    "                            span_text = usertxt.find_element(By.TAG_NAME, 'span').text\n",
    "                            replies_lst.append(span_text)\n",
    "                        \n",
    "                        new_lst.append(replies_lst)\n",
    "\n",
    "                        ''' Data Frame 에 추가 '''\n",
    "                        new_df = pd.DataFrame([new_lst], columns=['URL', 'Date', 'Title', 'Body Text', 'Replies'])\n",
    "                        nate_df = pd.concat([nate_df, new_df], ignore_index=True)\n",
    "                        print('Data concat success')\n",
    "\n",
    "                        ''' 뒤로가기 '''\n",
    "                        driver.back()  # 이전 페이지로 돌아가기\n",
    "                        print('back!')\n",
    "                        time.sleep(random.uniform(3, 5.4))  # 페이지가 로드될 시간을 기다림\n",
    "                        WebDriverWait(driver, 10).until(EC.presence_of_element_located((By.CLASS_NAME, 'subject')))  # 페이지 로드 대기\n",
    "                        subject_elements = driver.find_elements(By.CLASS_NAME, 'subject')  # 다시 요소 찾기\n",
    "\n",
    "                    else :\n",
    "                        ''' 뒤로가기 '''\n",
    "                        driver.back()  # 이전 페이지로 돌아가기\n",
    "                        print('back!')\n",
    "                        time.sleep(random.uniform(3, 5.4))  # 페이지가 로드될 시간을 기다림\n",
    "                        WebDriverWait(driver, 10).until(EC.presence_of_element_located((By.CLASS_NAME, 'subject')))  # 페이지 로드 대기\n",
    "                        subject_elements = driver.find_elements(By.CLASS_NAME, 'subject')  # 다시 요소 찾기\n",
    "\n",
    "            except Exception as e:\n",
    "                print(f\"오류 발생2 : {e}\")\n",
    "                # 엔터 쳐야하는 곳\n",
    "                time.sleep(random.uniform(2, 3.5))\n",
    "                # 엔터 키 입력\n",
    "                body = driver.find_element(By.TAG_NAME, 'body')  # body 요소 찾기\n",
    "                body.send_keys(Keys.ENTER)  # 엔터 키 입력\n",
    "\n",
    "    except Exception as e:\n",
    "        print(f\"오류 발생1 : {e}\")\n",
    "        exit()\n",
    "\n",
    "# 드라이버 종료\n",
    "# driver.quit()"
   ]
  },
  {
   "cell_type": "code",
   "execution_count": null,
   "metadata": {},
   "outputs": [],
   "source": [
    "# 변환된 데이터를 저장할 리스트\n",
    "transformed_data = []\n",
    "\n",
    "# 데이터 변환\n",
    "for row in nate_df.itertuples(index=False):\n",
    "    base_values = row[:-1]  # 마지막 요소 제외\n",
    "    last_item = row[-1]     # 마지막 요소\n",
    "    if isinstance(last_item, list):  # 마지막 요소가 리스트인지 확인\n",
    "        for item in last_item:  # 리스트를 반복\n",
    "            transformed_data.append(base_values + (item,))  # base_values와 item을 합쳐서 추가\n",
    "\n",
    "# 데이터 프레임 생성\n",
    "df_nate_pann = pd.DataFrame(transformed_data, columns=['Date', 'URL', 'Title', 'Body Text', 'Replies'])\n",
    "\n",
    "# 결과 출력\n",
    "print(df_nate_pann)"
   ]
  },
  {
   "cell_type": "code",
   "execution_count": null,
   "metadata": {},
   "outputs": [],
   "source": [
    "import pickle\n",
    "\n",
    "# Save data to a pickle file\n",
    "file_path = r\"C:\\Users\\trainee225\\Desktop\\LG\\이리저리요리조리\\nate_pann_공강crawling(1-50page)_draft.pkl\"\n",
    "with open(file_path, 'wb') as file :\n",
    "    pickle.dump(nate_df, file)\n",
    "\n",
    "print(\"Data has been saved to data.pkl\")"
   ]
  },
  {
   "cell_type": "markdown",
   "metadata": {},
   "source": [
    "# TEST CODE"
   ]
  },
  {
   "cell_type": "code",
   "execution_count": 60,
   "metadata": {},
   "outputs": [
    {
     "data": {
      "text/html": [
       "<div>\n",
       "<style scoped>\n",
       "    .dataframe tbody tr th:only-of-type {\n",
       "        vertical-align: middle;\n",
       "    }\n",
       "\n",
       "    .dataframe tbody tr th {\n",
       "        vertical-align: top;\n",
       "    }\n",
       "\n",
       "    .dataframe thead th {\n",
       "        text-align: right;\n",
       "    }\n",
       "</style>\n",
       "<table border=\"1\" class=\"dataframe\">\n",
       "  <thead>\n",
       "    <tr style=\"text-align: right;\">\n",
       "      <th></th>\n",
       "      <th>Date</th>\n",
       "      <th>Title</th>\n",
       "      <th>Body Text</th>\n",
       "      <th>Replies</th>\n",
       "    </tr>\n",
       "  </thead>\n",
       "  <tbody>\n",
       "    <tr>\n",
       "      <th>0</th>\n",
       "      <td>2024-09-01</td>\n",
       "      <td>첫 번째 제목</td>\n",
       "      <td>본문 내용 1</td>\n",
       "      <td>5</td>\n",
       "    </tr>\n",
       "    <tr>\n",
       "      <th>1</th>\n",
       "      <td>2024-09-02</td>\n",
       "      <td>두 번째 제목</td>\n",
       "      <td>본문 내용 2</td>\n",
       "      <td>10</td>\n",
       "    </tr>\n",
       "  </tbody>\n",
       "</table>\n",
       "</div>"
      ],
      "text/plain": [
       "         Date    Title Body Text  Replies\n",
       "0  2024-09-01  첫 번째 제목   본문 내용 1        5\n",
       "1  2024-09-02  두 번째 제목   본문 내용 2       10"
      ]
     },
     "execution_count": 60,
     "metadata": {},
     "output_type": "execute_result"
    }
   ],
   "source": [
    "''' test code '''\n",
    "### concat\n",
    "\n",
    "# 데이터프레임에 데이터 추가\n",
    "testdata = ['2024-09-01', '첫 번째 제목', '본문 내용 1', 5]\n",
    "test_df = pd.DataFrame([testdata], columns=['Date', 'Title', 'Body Text', 'Replies'])\n",
    "\n",
    "# 추가할 데이터 리스트를 데이터프레임으로 바꾸기\n",
    "new_data = [['2024-09-02', '두 번째 제목', '본문 내용 2', 10]]\n",
    "new_df = pd.DataFrame(new_data, columns=['Date', 'Title', 'Body Text', 'Replies'])\n",
    "\n",
    "# 데이터프레임 합치기\n",
    "test_df = pd.concat([test_df, new_df], ignore_index=True)\n",
    "\n",
    "# 결과 출력\n",
    "test_df"
   ]
  },
  {
   "cell_type": "code",
   "execution_count": 38,
   "metadata": {},
   "outputs": [
    {
     "data": {
      "text/plain": [
       "[1, 2, 3]"
      ]
     },
     "execution_count": 38,
     "metadata": {},
     "output_type": "execute_result"
    }
   ],
   "source": [
    "''' test code '''\n",
    "### append\n",
    "\n",
    "testlst = []\n",
    "testlst.append(1)\n",
    "testlst.append(2)\n",
    "testlst.append(3)\n",
    "testlst"
   ]
  },
  {
   "cell_type": "code",
   "execution_count": 17,
   "metadata": {},
   "outputs": [],
   "source": [
    "# 드라이버 설정\n",
    "driver = webdriver.Chrome(service=Service(ChromeDriverManager().install()))\n",
    "\n",
    "# 웹 페이지 열기\n",
    "url = 'https://pann.nate.com/search/talk?q=%EA%B3%B5%EA%B0%95&page=1'\n",
    "driver.get(url)\n",
    "# 페이지 로딩 대기\n",
    "wait = WebDriverWait(driver, 10)"
   ]
  }
 ],
 "metadata": {
  "kernelspec": {
   "display_name": "myenv",
   "language": "python",
   "name": "python3"
  },
  "language_info": {
   "codemirror_mode": {
    "name": "ipython",
    "version": 3
   },
   "file_extension": ".py",
   "mimetype": "text/x-python",
   "name": "python",
   "nbconvert_exporter": "python",
   "pygments_lexer": "ipython3",
   "version": "3.9.19"
  }
 },
 "nbformat": 4,
 "nbformat_minor": 2
}
